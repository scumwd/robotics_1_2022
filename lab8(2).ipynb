{
 "cells": [
  {
   "cell_type": "code",
   "execution_count": 4,
   "id": "c93ec069",
   "metadata": {},
   "outputs": [],
   "source": [
    "import cv2\n",
    "import numpy as np\n",
    "\n",
    "img = cv2.imread('map.jpg')\n",
    "points = []"
   ]
  },
  {
   "cell_type": "code",
   "execution_count": 5,
   "id": "b1b1e38b",
   "metadata": {},
   "outputs": [],
   "source": [
    "def mouse_callback(event, x, y, flags, params):\n",
    "    if event == cv2.EVENT_LBUTTONDOWN:\n",
    "        points.append([x, y])"
   ]
  },
  {
   "cell_type": "code",
   "execution_count": 6,
   "id": "033167b0",
   "metadata": {},
   "outputs": [],
   "source": [
    "while True:\n",
    "    if cv2.waitKey(1) & 0xFF == 27:\n",
    "        break\n",
    "    for i in range(len(points)):\n",
    "        cv2.circle(img, (points[i][0], points[i][1]), 3, (0, 255,0), cv2.FILLED)\n",
    "    for i in range(len(points)):\n",
    "        if i < len(points) - 1:\n",
    "            cv2.line(img, (points[i][0], points[i][1]), (points[i+1][0], points[i+1][1]), (255, 0, 0), 2)\n",
    "    cv2.imshow('map', img)\n",
    "    cv2.setMouseCallback('map', mouse_callback)\n",
    "    cv2.waitKey(1)\n",
    "cv2.destroyAllWindows()"
   ]
  },
  {
   "cell_type": "code",
   "execution_count": null,
   "id": "be7dffa2",
   "metadata": {},
   "outputs": [],
   "source": []
  }
 ],
 "metadata": {
  "kernelspec": {
   "display_name": "Python 3 (ipykernel)",
   "language": "python",
   "name": "python3"
  },
  "language_info": {
   "codemirror_mode": {
    "name": "ipython",
    "version": 3
   },
   "file_extension": ".py",
   "mimetype": "text/x-python",
   "name": "python",
   "nbconvert_exporter": "python",
   "pygments_lexer": "ipython3",
   "version": "3.9.12"
  }
 },
 "nbformat": 4,
 "nbformat_minor": 5
}
