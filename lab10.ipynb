{
 "cells": [
  {
   "cell_type": "code",
   "execution_count": 9,
   "id": "c93ec069",
   "metadata": {},
   "outputs": [],
   "source": [
    "import cv2\n",
    "import numpy as np\n",
    "from random import random\n",
    "\n",
    "img = cv2.imread('scumwd.jpeg')"
   ]
  },
  {
   "cell_type": "code",
   "execution_count": 10,
   "id": "e5e1a4d5",
   "metadata": {},
   "outputs": [],
   "source": [
    "def mblur(img, kernel_size):\n",
    "    return cv2.medianBlur(img, kernel_size)"
   ]
  },
  {
   "cell_type": "code",
   "execution_count": 11,
   "id": "c1c93877",
   "metadata": {},
   "outputs": [],
   "source": [
    "def gblur(img, kernel_size):\n",
    "    return cv2.GaussianBlur(img, (kernel_size, kernel_size), sigmaX=0, sigmaY=0)"
   ]
  },
  {
   "cell_type": "code",
   "execution_count": 12,
   "id": "6d608141",
   "metadata": {},
   "outputs": [],
   "source": [
    "def bfilter(img, kernel_size, sigma_color, sigma_space):\n",
    "    return cv2.bilateralFilter(img, kernel_size, sigma_color, sigma_space)"
   ]
  },
  {
   "cell_type": "code",
   "execution_count": 13,
   "id": "303c6734",
   "metadata": {},
   "outputs": [],
   "source": [
    "def salt(img, probability):\n",
    "    output = np.zeros(img.shape, np.uint8)\n",
    "    for i in range(img.shape[0]):\n",
    "        for j in range(img.shape[1]):\n",
    "            rnd = random()\n",
    "            prob = probability / 2.0\n",
    "            inverse_prob = 1 - prob\n",
    "            output[i, j] = 255 if rnd < prob else 0 if rnd > inverse_prob else img[i, j]\n",
    "    return output"
   ]
  },
  {
   "cell_type": "code",
   "execution_count": 14,
   "id": "f50293a3",
   "metadata": {},
   "outputs": [],
   "source": [
    "noised = salt(img, 0.1)\n",
    "cv2.imshow('noised', np.hstack((img, noised)))\n",
    "cv2.imshow('median, gaussian, bilateral',\n",
    "    np.concatenate((mblur(noised, 5), gblur(noised, 5), bfilter(noised, 9, 75, 75)), axis=1))\n",
    "cv2.waitKey(0)\n",
    "cv2.destroyAllWindows()"
   ]
  },
  {
   "cell_type": "code",
   "execution_count": null,
   "id": "33d455e5",
   "metadata": {},
   "outputs": [],
   "source": []
  }
 ],
 "metadata": {
  "kernelspec": {
   "display_name": "Python 3 (ipykernel)",
   "language": "python",
   "name": "python3"
  },
  "language_info": {
   "codemirror_mode": {
    "name": "ipython",
    "version": 3
   },
   "file_extension": ".py",
   "mimetype": "text/x-python",
   "name": "python",
   "nbconvert_exporter": "python",
   "pygments_lexer": "ipython3",
   "version": "3.9.12"
  }
 },
 "nbformat": 4,
 "nbformat_minor": 5
}
